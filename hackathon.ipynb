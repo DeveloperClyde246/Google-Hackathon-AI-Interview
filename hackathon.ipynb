{
 "cells": [
  {
   "cell_type": "code",
   "execution_count": 28,
   "id": "b26e5990-3b48-442d-98fe-254e2b4e3d63",
   "metadata": {},
   "outputs": [
    {
     "name": "stdout",
     "output_type": "stream",
     "text": [
      "Requirement already satisfied: moviepy in c:\\users\\keyu\\anaconda3\\lib\\site-packages (1.0.3)\n",
      "Requirement already satisfied: decorator<5.0,>=4.0.2 in c:\\users\\keyu\\anaconda3\\lib\\site-packages (from moviepy) (4.4.2)\n",
      "Requirement already satisfied: tqdm<5.0,>=4.11.2 in c:\\users\\keyu\\anaconda3\\lib\\site-packages (from moviepy) (4.65.0)\n",
      "Requirement already satisfied: requests<3.0,>=2.8.1 in c:\\users\\keyu\\anaconda3\\lib\\site-packages (from moviepy) (2.31.0)\n",
      "Requirement already satisfied: proglog<=1.0.0 in c:\\users\\keyu\\anaconda3\\lib\\site-packages (from moviepy) (0.1.10)\n",
      "Requirement already satisfied: numpy>=1.17.3 in c:\\users\\keyu\\anaconda3\\lib\\site-packages (from moviepy) (1.26.4)\n",
      "Requirement already satisfied: imageio<3.0,>=2.5 in c:\\users\\keyu\\anaconda3\\lib\\site-packages (from moviepy) (2.33.1)\n",
      "Requirement already satisfied: imageio-ffmpeg>=0.2.0 in c:\\users\\keyu\\anaconda3\\lib\\site-packages (from moviepy) (0.5.1)\n",
      "Requirement already satisfied: pillow>=8.3.2 in c:\\users\\keyu\\anaconda3\\lib\\site-packages (from imageio<3.0,>=2.5->moviepy) (10.2.0)\n",
      "Requirement already satisfied: setuptools in c:\\users\\keyu\\anaconda3\\lib\\site-packages (from imageio-ffmpeg>=0.2.0->moviepy) (68.2.2)\n",
      "Requirement already satisfied: charset-normalizer<4,>=2 in c:\\users\\keyu\\anaconda3\\lib\\site-packages (from requests<3.0,>=2.8.1->moviepy) (2.0.4)\n",
      "Requirement already satisfied: idna<4,>=2.5 in c:\\users\\keyu\\appdata\\roaming\\python\\python311\\site-packages (from requests<3.0,>=2.8.1->moviepy) (2.10)\n",
      "Requirement already satisfied: urllib3<3,>=1.21.1 in c:\\users\\keyu\\anaconda3\\lib\\site-packages (from requests<3.0,>=2.8.1->moviepy) (2.0.7)\n",
      "Requirement already satisfied: certifi>=2017.4.17 in c:\\users\\keyu\\anaconda3\\lib\\site-packages (from requests<3.0,>=2.8.1->moviepy) (2024.7.4)\n",
      "Requirement already satisfied: colorama in c:\\users\\keyu\\anaconda3\\lib\\site-packages (from tqdm<5.0,>=4.11.2->moviepy) (0.4.6)\n",
      "Requirement already satisfied: SpeechRecognition in c:\\users\\keyu\\anaconda3\\lib\\site-packages (3.10.4)\n",
      "Requirement already satisfied: requests>=2.26.0 in c:\\users\\keyu\\anaconda3\\lib\\site-packages (from SpeechRecognition) (2.31.0)\n",
      "Requirement already satisfied: typing-extensions in c:\\users\\keyu\\anaconda3\\lib\\site-packages (from SpeechRecognition) (4.9.0)\n",
      "Requirement already satisfied: charset-normalizer<4,>=2 in c:\\users\\keyu\\anaconda3\\lib\\site-packages (from requests>=2.26.0->SpeechRecognition) (2.0.4)\n",
      "Requirement already satisfied: idna<4,>=2.5 in c:\\users\\keyu\\appdata\\roaming\\python\\python311\\site-packages (from requests>=2.26.0->SpeechRecognition) (2.10)\n",
      "Requirement already satisfied: urllib3<3,>=1.21.1 in c:\\users\\keyu\\anaconda3\\lib\\site-packages (from requests>=2.26.0->SpeechRecognition) (2.0.7)\n",
      "Requirement already satisfied: certifi>=2017.4.17 in c:\\users\\keyu\\anaconda3\\lib\\site-packages (from requests>=2.26.0->SpeechRecognition) (2024.7.4)\n"
     ]
    }
   ],
   "source": [
    "!pip install moviepy\n",
    "!pip install SpeechRecognition"
   ]
  },
  {
   "cell_type": "code",
   "execution_count": 39,
   "id": "a473a8bb-097c-4572-88ff-bcbc55294970",
   "metadata": {},
   "outputs": [
    {
     "name": "stdout",
     "output_type": "stream",
     "text": [
      "MoviePy - Writing audio in geeksforgeeks.wav\n"
     ]
    },
    {
     "name": "stderr",
     "output_type": "stream",
     "text": [
      "                                                                      \r"
     ]
    },
    {
     "name": "stdout",
     "output_type": "stream",
     "text": [
      "MoviePy - Done.\n",
      "\n",
      "The resultant text from video is: \n",
      "\n",
      "a few weeks ago I did a poll on LinkedIn asking you all what was the number one reason that is stopping you from using speech recognition and we'll the results kinds of shocked me a little bit because a massive 75% of you said that this was down to the accuracy now you know me I love a challenge so I had to go out there and prove to you how good the accuracy is but I might have embarrassed myself a long way so just stay with me on this one let's go to the demo good day mate I apologise in advance for the absolutely awful impressions you're going to see in this demonstration full stop I am doing an Australian accent to show how good dragons accuracy is even with a variety of different dialects full stop as you can see comma dragon is still able to understand me comma even when I'm embarrassing myself like this exclamation mark\n",
      "\n",
      "Now I'm going to speak in an American accent comma which is a little bit easier because I can just speak like a Kardashian full stop as you can see comma dragon is understanding me word for word without a single mistake exclamation mark\n",
      "\n",
      "Now I'm going back to my normal Southern English accent comma but I am speaking at a much faster pace than I usually would simply to demonstrate that the accuracy doesn't differ when you throw different challenges at the software full stop in fact comma it actually likes it when you speak in a normal manner as it helps the technology to understand the context of different words such as homophones full stop so comma if your reason for not using speech recognition is that you worry about the accuracy with your accent comma well now you have no excuse exclamation mark OK I'll be serious now I promise if you're still with me after that demo then well done because that was just the weirdest idea I've ever had but we move so sorry we do say that the more you use dragon the better the accuracy will be it learns your voice patterns and your dialect and so the more you use it the better understands you of course that equals better accuracy have a good microphone is also really key for good accuracy for example we only recommend microphones or headsets that have noise cancellation capability so am I don't know I was using the Philips speech 1 which is a really great headset and of course has noise cancellation that's all for me today if we speaking in these crazy accents hasn't shown you how good dragons accuracy is they don't know what will be honest but that is always something that you can try and that is a free proof of concept trial which means you can try the software and see it for yourself completely free of charge so there's always not as always though if you have any comments questions theories make sure you drop them in the comments because I'd love to continue talking Dragons with he dies\n"
     ]
    }
   ],
   "source": [
    "import moviepy.editor as mp \n",
    "import speech_recognition as sr \n",
    "  \n",
    "# Load the video \n",
    "video = mp.VideoFileClip(r\"C:\\Users\\KEYU\\Downloads\\wqerr.mp4\") \n",
    "  \n",
    "# Extract the audio from the video \n",
    "audio_file = video.audio \n",
    "audio_file.write_audiofile(\"geeksforgeeks.wav\") \n",
    "  \n",
    "# Initialize recognizer \n",
    "r = sr.Recognizer() \n",
    "  \n",
    "# Load the audio file \n",
    "with sr.AudioFile(\"geeksforgeeks.wav\") as source: \n",
    "    data = r.record(source) \n",
    "  \n",
    "# Convert speech to text \n",
    "text = r.recognize_google(data) \n",
    "  \n",
    "# Print the text \n",
    "print(\"\\nThe resultant text from video is: \\n\") \n",
    "print(text) "
   ]
  },
  {
   "cell_type": "code",
   "execution_count": 2,
   "id": "0dbbb1ff-4de5-4b63-a2bb-1bdb2c852e1d",
   "metadata": {},
   "outputs": [
    {
     "name": "stdout",
     "output_type": "stream",
     "text": [
      "Requirement already satisfied: nltk in c:\\users\\keyu\\anaconda3\\lib\\site-packages (3.8.1)\n",
      "Requirement already satisfied: click in c:\\users\\keyu\\anaconda3\\lib\\site-packages (from nltk) (8.1.7)\n",
      "Requirement already satisfied: joblib in c:\\users\\keyu\\anaconda3\\lib\\site-packages (from nltk) (1.2.0)\n",
      "Requirement already satisfied: regex>=2021.8.3 in c:\\users\\keyu\\anaconda3\\lib\\site-packages (from nltk) (2023.10.3)\n",
      "Requirement already satisfied: tqdm in c:\\users\\keyu\\anaconda3\\lib\\site-packages (from nltk) (4.65.0)\n",
      "Requirement already satisfied: colorama in c:\\users\\keyu\\anaconda3\\lib\\site-packages (from click->nltk) (0.4.6)\n"
     ]
    }
   ],
   "source": [
    "!pip install nltk\n",
    "import nltk\n",
    "\n",
    "nltk.download('all')"
   ]
  },
  {
   "cell_type": "code",
   "execution_count": null,
   "id": "386d7397-d8b8-4a39-9ccf-e905fbd57de2",
   "metadata": {},
   "outputs": [],
   "source": []
  }
 ],
 "metadata": {
  "kernelspec": {
   "display_name": "Python 3 (ipykernel)",
   "language": "python",
   "name": "python3"
  },
  "language_info": {
   "codemirror_mode": {
    "name": "ipython",
    "version": 3
   },
   "file_extension": ".py",
   "mimetype": "text/x-python",
   "name": "python",
   "nbconvert_exporter": "python",
   "pygments_lexer": "ipython3",
   "version": "3.11.7"
  }
 },
 "nbformat": 4,
 "nbformat_minor": 5
}
